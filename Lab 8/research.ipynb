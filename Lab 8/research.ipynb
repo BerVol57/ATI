{
 "cells": [
  {
   "cell_type": "code",
   "execution_count": 1,
   "id": "ba5ea736",
   "metadata": {},
   "outputs": [],
   "source": [
    "from task1 import *\n",
    "from task2 import *\n",
    "from task3 import *\n",
    "\n",
    "from input_data import *\n",
    "\n",
    "import tracemalloc\n",
    "import random\n",
    "import time"
   ]
  },
  {
   "cell_type": "code",
   "execution_count": 2,
   "id": "5fc85cf2",
   "metadata": {},
   "outputs": [
    {
     "name": "stdout",
     "output_type": "stream",
     "text": [
      "Використано пам’яті: 0.0011 MB (пік: 0.0188 MB)\n",
      "Використано пам’яті: 0.1421 MB (пік: 0.1598 MB)\n"
     ]
    }
   ],
   "source": [
    "tracemalloc.start()\n",
    "bwt(input_name=\"INPUT/input1.dat\", output_name=\"OUTPUT/output1.dat\")\n",
    "current, peak = tracemalloc.get_traced_memory()\n",
    "print(f\"Використано пам’яті: {current / 1024**2:.4f} MB (пік: {peak / 1024**2:.4f} MB)\")\n",
    "tracemalloc.stop()\n",
    "\n",
    "tracemalloc.start()\n",
    "bwt(input_name=\"INPUT/input2.dat\", output_name=\"OUTPUT/output2.dat\")\n",
    "current, peak = tracemalloc.get_traced_memory()\n",
    "print(f\"Використано пам’яті: {current / 1024**2:.4f} MB (пік: {peak / 1024**2:.4f} MB)\")\n",
    "tracemalloc.stop()"
   ]
  },
  {
   "cell_type": "code",
   "execution_count": 3,
   "id": "b6805a0a",
   "metadata": {},
   "outputs": [
    {
     "name": "stdout",
     "output_type": "stream",
     "text": [
      "Використано пам’яті: 0.1423 MB (пік: 0.1600 MB)\n",
      "Використано пам’яті: 0.1426 MB (пік: 0.1602 MB)\n"
     ]
    }
   ],
   "source": [
    "tracemalloc.start()\n",
    "ibwt(input_name=\"INPUT/input3.dat\", output_name=\"OUTPUT/output3.dat\")\n",
    "current, peak = tracemalloc.get_traced_memory()\n",
    "print(f\"Використано пам’яті: {current / 1024**2:.4f} MB (пік: {peak / 1024**2:.4f} MB)\")\n",
    "tracemalloc.stop()\n",
    "\n",
    "tracemalloc.start()\n",
    "ibwt(input_name=\"INPUT/input4.dat\", output_name=\"OUTPUT/output4.dat\")\n",
    "current, peak = tracemalloc.get_traced_memory()\n",
    "print(f\"Використано пам’яті: {current / 1024**2:.4f} MB (пік: {peak / 1024**2:.4f} MB)\")\n",
    "tracemalloc.stop()"
   ]
  },
  {
   "cell_type": "code",
   "execution_count": 4,
   "id": "3e04aa3f",
   "metadata": {},
   "outputs": [
    {
     "name": "stdout",
     "output_type": "stream",
     "text": [
      "Використано пам’яті: 0.2834 MB (пік: 0.3010 MB)\n"
     ]
    }
   ],
   "source": [
    "tracemalloc.start()\n",
    "matching(input_name=\"INPUT/input5.dat\", output_name=\"OUTPUT/output5.dat\")\n",
    "current, peak = tracemalloc.get_traced_memory()\n",
    "print(f\"Використано пам’яті: {current / 1024**2:.4f} MB (пік: {peak / 1024**2:.4f} MB)\")\n",
    "tracemalloc.stop()"
   ]
  },
  {
   "cell_type": "code",
   "execution_count": null,
   "id": "219a5410",
   "metadata": {},
   "outputs": [],
   "source": [
    "max_test = \"\".join(random.choices(alphabet, k=10**6)) + \"$\"\n",
    "tracemalloc.start()\n",
    "bwt(input_name=max_test, output_name=\"\", test_mode=True)\n",
    "current, peak = tracemalloc.get_traced_memory()\n",
    "print(f\"Використано пам’яті: {current / 1024**2:.4f} MB (пік: {peak / 1024**2:.4f} MB)\")\n",
    "tracemalloc.stop()"
   ]
  },
  {
   "cell_type": "code",
   "execution_count": 6,
   "id": "2c2193e2",
   "metadata": {},
   "outputs": [
    {
     "name": "stdout",
     "output_type": "stream",
     "text": [
      "0\n",
      "Використано пам’яті: 0.2845 MB (пік: 0.3022 MB)\n"
     ]
    }
   ],
   "source": [
    "tracemalloc.start()\n",
    "print(matching(input_name=task3_input1, output_name=\"\", test_mode=True))\n",
    "current, peak = tracemalloc.get_traced_memory()\n",
    "print(f\"Використано пам’яті: {current / 1024**2:.4f} MB (пік: {peak / 1024**2:.4f} MB)\")\n",
    "tracemalloc.stop()"
   ]
  },
  {
   "cell_type": "code",
   "execution_count": 7,
   "id": "68dca9da",
   "metadata": {},
   "outputs": [
    {
     "data": {
      "text/plain": [
       "0"
      ]
     },
     "execution_count": 7,
     "metadata": {},
     "output_type": "execute_result"
    }
   ],
   "source": [
    "len([])"
   ]
  },
  {
   "cell_type": "code",
   "execution_count": 8,
   "id": "1719ff7d",
   "metadata": {},
   "outputs": [
    {
     "data": {
      "text/plain": [
       "[0, 1, 2, 3, 4, 5, 6, 7]"
      ]
     },
     "execution_count": 8,
     "metadata": {},
     "output_type": "execute_result"
    }
   ],
   "source": [
    "import copy\n",
    "a = \"AAKSGHD$\"\n",
    "n = len(a)\n",
    "indx = list(range(len(a)))\n",
    "# indx = sorted(indx, key=lambda x: a[x])\n",
    "indx\n"
   ]
  },
  {
   "cell_type": "code",
   "execution_count": 9,
   "id": "1e2576bc",
   "metadata": {},
   "outputs": [],
   "source": [
    "def get_prev(indx):\n",
    "    indx = copy.copy(indx)\n",
    "    n = len(indx)\n",
    "    for i in range(n):\n",
    "        indx[i] -= 1\n",
    "        indx[i] %= n\n",
    "    return indx"
   ]
  },
  {
   "cell_type": "code",
   "execution_count": 10,
   "id": "dc60905c",
   "metadata": {},
   "outputs": [
    {
     "data": {
      "text/plain": [
       "'D$AHSGAK'"
      ]
     },
     "execution_count": 10,
     "metadata": {},
     "output_type": "execute_result"
    }
   ],
   "source": [
    "k = lambda x: a[x]\n",
    "for _ in range(n):\n",
    "    indx = sorted(indx, key=k)\n",
    "    indx = get_prev(indx)\n",
    "indx\n",
    "res = []\n",
    "for i in indx:\n",
    "    res.append(a[i])\n",
    "\"\".join(res)"
   ]
  },
  {
   "cell_type": "code",
   "execution_count": 11,
   "id": "c54ec086",
   "metadata": {},
   "outputs": [
    {
     "data": {
      "text/plain": [
       "'D$AHSGAK'"
      ]
     },
     "execution_count": 11,
     "metadata": {},
     "output_type": "execute_result"
    }
   ],
   "source": [
    "bwt(input_name=a, output_name=\"\", test_mode=True)"
   ]
  },
  {
   "cell_type": "code",
   "execution_count": null,
   "id": "5bd8a67f",
   "metadata": {},
   "outputs": [],
   "source": []
  }
 ],
 "metadata": {
  "kernelspec": {
   "display_name": "base",
   "language": "python",
   "name": "python3"
  },
  "language_info": {
   "codemirror_mode": {
    "name": "ipython",
    "version": 3
   },
   "file_extension": ".py",
   "mimetype": "text/x-python",
   "name": "python",
   "nbconvert_exporter": "python",
   "pygments_lexer": "ipython3",
   "version": "3.12.9"
  }
 },
 "nbformat": 4,
 "nbformat_minor": 5
}
